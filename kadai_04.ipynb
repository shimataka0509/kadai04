{
 "cells": [
  {
   "cell_type": "code",
   "execution_count": null,
   "metadata": {},
   "outputs": [],
   "source": [
    "!pip install pygame"
   ]
  },
  {
   "cell_type": "code",
   "execution_count": null,
   "metadata": {},
   "outputs": [],
   "source": [
    "import pygame\n",
    "import sys\n",
    "import random\n",
    "from pygame.locals import *\n",
    "import numpy as np\n",
    "\n",
    "\n",
    "def banpei():\n",
    "    a = []\n",
    "    for i in range(40):\n",
    "        a.append(0)\n",
    "    masu.append(a)\n",
    "    \n",
    "def keisan(i,j):\n",
    "    return masu[i-1][j-1]+masu[i-1][j]+masu[i-1][j+1]+masu[i][j-1]+masu[i][j+1]+masu[i+1][j-1]+masu[i+1][j]+masu[i+1][j+1]\n",
    "\n",
    "masu = []\n",
    "banpei()\n",
    "num = [0,1]\n",
    "for i in range(38):\n",
    "    a = [0]\n",
    "    for j in range(38):\n",
    "        b = np.random.choice([1,10], p=[0.7,0.3])\n",
    "        a.append(b)\n",
    "    a.append(0)\n",
    "    masu.append(a)\n",
    "banpei()\n",
    "\n",
    "\n",
    "framerate = 1\n",
    "\n",
    "pygame.init() # pygame を初期化\n",
    "screen = pygame.display.set_mode((400,400)) # 400x400 サイズのウインドウを生成\n",
    "clock = pygame.time.Clock() # クロックを取得\n",
    "\n",
    "endflg = False\n",
    "\n",
    "while endflg == False:\n",
    "     # ループ終了の判定\n",
    "    for event in pygame.event.get():\n",
    "        if event.type == pygame.QUIT: # ウインドウが閉じられたら、\n",
    "            endflg = True # ループを終了させる\n",
    "           \n",
    "    for i in range(1,39):\n",
    "        for j in range(1,39):\n",
    "            a = keisan(i,j)\n",
    "            if masu[i][j] == 10:\n",
    "                pygame.draw.rect(screen, (255,0,0), Rect(i*10,j*10,10,10))\n",
    "                if a < 20 or a >= 40:\n",
    "                    masu[i][j] = 1 \n",
    "            elif masu[i][j] == 1:\n",
    "                pygame.draw.rect(screen, (0,0,0), Rect(i*10,j*10,10,10))\n",
    "                if a >= 30 and a < 36:\n",
    "                    masu[i][j] = 10\n",
    "                    \n",
    "    clock.tick(framerate)\n",
    "    \n",
    "    pygame.display.flip()\n",
    "\n",
    "pygame.quit()\n",
    "\n",
    "\n",
    "\n"
   ]
  },
  {
   "cell_type": "code",
   "execution_count": null,
   "metadata": {},
   "outputs": [],
   "source": []
  },
  {
   "cell_type": "code",
   "execution_count": null,
   "metadata": {},
   "outputs": [],
   "source": []
  }
 ],
 "metadata": {
  "kernelspec": {
   "display_name": "Python 3",
   "language": "python",
   "name": "python3"
  },
  "language_info": {
   "codemirror_mode": {
    "name": "ipython",
    "version": 3
   },
   "file_extension": ".py",
   "mimetype": "text/x-python",
   "name": "python",
   "nbconvert_exporter": "python",
   "pygments_lexer": "ipython3",
   "version": "3.7.7"
  }
 },
 "nbformat": 4,
 "nbformat_minor": 4
}
